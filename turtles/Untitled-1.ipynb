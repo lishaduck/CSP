{
 "cells": [
  {
   "cell_type": "markdown",
   "metadata": {},
   "source": [
    "# CSP - Turtles\n"
   ]
  },
  {
   "cell_type": "markdown",
   "metadata": {},
   "source": [
    "## Trial\n",
    "\n",
    "Python input practice\n"
   ]
  },
  {
   "cell_type": "code",
   "execution_count": 2,
   "metadata": {},
   "outputs": [
    {
     "name": "stdout",
     "output_type": "stream",
     "text": [
      "Hello eli welcome to my program.\n",
      "Hmmm... were you born in 2009 .\n"
     ]
    }
   ],
   "source": [
    "\"\"\"\n",
    "trial.py - python input practice.\n",
    "\n",
    "command-line usage\n",
    "answer the prompts\n",
    "\"\"\"\n",
    "\n",
    "\n",
    "# import the datetime module to get the current date/year\n",
    "import datetime as dt\n",
    "from typing import Literal\n",
    "\n",
    "# ask user for their name then welcome them\n",
    "user_name: str = input(\"What is your name?\")\n",
    "print(\"Hello\", user_name, \"welcome to my program.\")\n",
    "\n",
    "# ask user for their age\n",
    "age: int = int(input(\"How old are you?\"))\n",
    "\n",
    "# get the current year using the datetime object that resides in the datetime module\n",
    "curr_year: int = dt.datetime.now().year\n",
    "\n",
    "# prepare and display output\n",
    "birth_year: int = curr_year - age\n",
    "print(\"Hmmm... were you born in\", birth_year, \".\")\n",
    "\n",
    "YOU: Literal[\"\"] = \"\"\n",
    "\n",
    "\n",
    "def figure(who) -> Literal[\"\"]:\n",
    "    \"\"\"\n",
    "    who: string - pass in name\n",
    "    \"\"\"\n",
    "    if who == \"\":\n",
    "        return \"\"\n",
    "\n",
    "    return \"\""
   ]
  },
  {
   "cell_type": "markdown",
   "metadata": {},
   "source": [
    "## Warmup Sprial\n"
   ]
  },
  {
   "cell_type": "code",
   "execution_count": 3,
   "metadata": {},
   "outputs": [],
   "source": [
    "\"\"\"\n",
    "don't pass anything into this\n",
    "it broke with the addtion of colors\n",
    "TODO: RGB\n",
    "\"\"\"\n",
    "\n",
    "import turtle\n",
    "\n",
    "\n",
    "painter = turtle.Turtle()\n",
    "painter.speed(0)\n",
    "\n",
    "r = 1\n",
    "g = 1\n",
    "b = 1\n",
    "\n",
    "for i in range(103):\n",
    "    painter.pencolor(\"blue\")\n",
    "    # painter.pencolor((r, g, b))\n",
    "    # r = r + 1\n",
    "    # g = g + 1\n",
    "    # b = b + 1\n",
    "    painter.circle(150)\n",
    "    painter.right(7)\n",
    "    painter.forward(5)\n",
    "\n",
    "wn = turtle.Screen()\n",
    "wn.mainloop()"
   ]
  },
  {
   "cell_type": "markdown",
   "metadata": {},
   "source": [
    "## Tower of Mod"
   ]
  },
  {
   "cell_type": "code",
   "execution_count": 4,
   "metadata": {},
   "outputs": [
    {
     "ename": "Terminator",
     "evalue": "",
     "output_type": "error",
     "traceback": [
      "\u001b[0;31m---------------------------------------------------------------------------\u001b[0m",
      "\u001b[0;31mTerminator\u001b[0m                                Traceback (most recent call last)",
      "\u001b[1;32m/Users/dukese01/Library/Mobile Documents/com~apple~CloudDocs/CSP/turtles/Untitled-1.ipynb Cell 7\u001b[0m in \u001b[0;36m<cell line: 8>\u001b[0;34m()\u001b[0m\n\u001b[1;32m      <a href='vscode-notebook-cell:/Users/dukese01/Library/Mobile%20Documents/com~apple~CloudDocs/CSP/turtles/Untitled-1.ipynb#X13sZmlsZQ%3D%3D?line=0'>1</a>\u001b[0m \u001b[39m\"\"\"\u001b[39;00m\n\u001b[1;32m      <a href='vscode-notebook-cell:/Users/dukese01/Library/Mobile%20Documents/com~apple~CloudDocs/CSP/turtles/Untitled-1.ipynb#X13sZmlsZQ%3D%3D?line=1'>2</a>\u001b[0m \u001b[39ma113_tower.py\u001b[39;00m\n\u001b[1;32m      <a href='vscode-notebook-cell:/Users/dukese01/Library/Mobile%20Documents/com~apple~CloudDocs/CSP/turtles/Untitled-1.ipynb#X13sZmlsZQ%3D%3D?line=2'>3</a>\u001b[0m \u001b[39mModify this code in VS Code to alternate the colors of the floors every three floors\u001b[39;00m\n\u001b[1;32m      <a href='vscode-notebook-cell:/Users/dukese01/Library/Mobile%20Documents/com~apple~CloudDocs/CSP/turtles/Untitled-1.ipynb#X13sZmlsZQ%3D%3D?line=3'>4</a>\u001b[0m \u001b[39m\"\"\"\u001b[39;00m\n\u001b[1;32m      <a href='vscode-notebook-cell:/Users/dukese01/Library/Mobile%20Documents/com~apple~CloudDocs/CSP/turtles/Untitled-1.ipynb#X13sZmlsZQ%3D%3D?line=5'>6</a>\u001b[0m \u001b[39mimport\u001b[39;00m \u001b[39mturtle\u001b[39;00m \u001b[39mas\u001b[39;00m \u001b[39mtrtl\u001b[39;00m\n\u001b[0;32m----> <a href='vscode-notebook-cell:/Users/dukese01/Library/Mobile%20Documents/com~apple~CloudDocs/CSP/turtles/Untitled-1.ipynb#X13sZmlsZQ%3D%3D?line=7'>8</a>\u001b[0m painter \u001b[39m=\u001b[39m trtl\u001b[39m.\u001b[39;49mTurtle()\n\u001b[1;32m      <a href='vscode-notebook-cell:/Users/dukese01/Library/Mobile%20Documents/com~apple~CloudDocs/CSP/turtles/Untitled-1.ipynb#X13sZmlsZQ%3D%3D?line=8'>9</a>\u001b[0m painter\u001b[39m.\u001b[39mspeed(\u001b[39m0\u001b[39m)\n\u001b[1;32m     <a href='vscode-notebook-cell:/Users/dukese01/Library/Mobile%20Documents/com~apple~CloudDocs/CSP/turtles/Untitled-1.ipynb#X13sZmlsZQ%3D%3D?line=9'>10</a>\u001b[0m painter\u001b[39m.\u001b[39mpensize(\u001b[39m5\u001b[39m)\n",
      "File \u001b[0;32m/Library/Frameworks/Python.framework/Versions/3.10/lib/python3.10/turtle.py:3815\u001b[0m, in \u001b[0;36mTurtle.__init__\u001b[0;34m(self, shape, undobuffersize, visible)\u001b[0m\n\u001b[1;32m   3813\u001b[0m \u001b[39mif\u001b[39;00m Turtle\u001b[39m.\u001b[39m_screen \u001b[39mis\u001b[39;00m \u001b[39mNone\u001b[39;00m:\n\u001b[1;32m   3814\u001b[0m     Turtle\u001b[39m.\u001b[39m_screen \u001b[39m=\u001b[39m Screen()\n\u001b[0;32m-> 3815\u001b[0m RawTurtle\u001b[39m.\u001b[39;49m\u001b[39m__init__\u001b[39;49m(\u001b[39mself\u001b[39;49m, Turtle\u001b[39m.\u001b[39;49m_screen,\n\u001b[1;32m   3816\u001b[0m                    shape\u001b[39m=\u001b[39;49mshape,\n\u001b[1;32m   3817\u001b[0m                    undobuffersize\u001b[39m=\u001b[39;49mundobuffersize,\n\u001b[1;32m   3818\u001b[0m                    visible\u001b[39m=\u001b[39;49mvisible)\n",
      "File \u001b[0;32m/Library/Frameworks/Python.framework/Versions/3.10/lib/python3.10/turtle.py:2558\u001b[0m, in \u001b[0;36mRawTurtle.__init__\u001b[0;34m(self, canvas, shape, undobuffersize, visible)\u001b[0m\n\u001b[1;32m   2556\u001b[0m \u001b[39mself\u001b[39m\u001b[39m.\u001b[39m_undobuffersize \u001b[39m=\u001b[39m undobuffersize\n\u001b[1;32m   2557\u001b[0m \u001b[39mself\u001b[39m\u001b[39m.\u001b[39mundobuffer \u001b[39m=\u001b[39m Tbuffer(undobuffersize)\n\u001b[0;32m-> 2558\u001b[0m \u001b[39mself\u001b[39;49m\u001b[39m.\u001b[39;49m_update()\n",
      "File \u001b[0;32m/Library/Frameworks/Python.framework/Versions/3.10/lib/python3.10/turtle.py:2661\u001b[0m, in \u001b[0;36mRawTurtle._update\u001b[0;34m(self)\u001b[0m\n\u001b[1;32m   2659\u001b[0m     \u001b[39mreturn\u001b[39;00m\n\u001b[1;32m   2660\u001b[0m \u001b[39melif\u001b[39;00m screen\u001b[39m.\u001b[39m_tracing \u001b[39m==\u001b[39m \u001b[39m1\u001b[39m:\n\u001b[0;32m-> 2661\u001b[0m     \u001b[39mself\u001b[39;49m\u001b[39m.\u001b[39;49m_update_data()\n\u001b[1;32m   2662\u001b[0m     \u001b[39mself\u001b[39m\u001b[39m.\u001b[39m_drawturtle()\n\u001b[1;32m   2663\u001b[0m     screen\u001b[39m.\u001b[39m_update()                  \u001b[39m# TurtleScreenBase\u001b[39;00m\n",
      "File \u001b[0;32m/Library/Frameworks/Python.framework/Versions/3.10/lib/python3.10/turtle.py:2647\u001b[0m, in \u001b[0;36mRawTurtle._update_data\u001b[0;34m(self)\u001b[0m\n\u001b[1;32m   2646\u001b[0m \u001b[39mdef\u001b[39;00m \u001b[39m_update_data\u001b[39m(\u001b[39mself\u001b[39m):\n\u001b[0;32m-> 2647\u001b[0m     \u001b[39mself\u001b[39;49m\u001b[39m.\u001b[39;49mscreen\u001b[39m.\u001b[39;49m_incrementudc()\n\u001b[1;32m   2648\u001b[0m     \u001b[39mif\u001b[39;00m \u001b[39mself\u001b[39m\u001b[39m.\u001b[39mscreen\u001b[39m.\u001b[39m_updatecounter \u001b[39m!=\u001b[39m \u001b[39m0\u001b[39m:\n\u001b[1;32m   2649\u001b[0m         \u001b[39mreturn\u001b[39;00m\n",
      "File \u001b[0;32m/Library/Frameworks/Python.framework/Versions/3.10/lib/python3.10/turtle.py:1293\u001b[0m, in \u001b[0;36mTurtleScreen._incrementudc\u001b[0;34m(self)\u001b[0m\n\u001b[1;32m   1291\u001b[0m \u001b[39mif\u001b[39;00m \u001b[39mnot\u001b[39;00m TurtleScreen\u001b[39m.\u001b[39m_RUNNING:\n\u001b[1;32m   1292\u001b[0m     TurtleScreen\u001b[39m.\u001b[39m_RUNNING \u001b[39m=\u001b[39m \u001b[39mTrue\u001b[39;00m\n\u001b[0;32m-> 1293\u001b[0m     \u001b[39mraise\u001b[39;00m Terminator\n\u001b[1;32m   1294\u001b[0m \u001b[39mif\u001b[39;00m \u001b[39mself\u001b[39m\u001b[39m.\u001b[39m_tracing \u001b[39m>\u001b[39m \u001b[39m0\u001b[39m:\n\u001b[1;32m   1295\u001b[0m     \u001b[39mself\u001b[39m\u001b[39m.\u001b[39m_updatecounter \u001b[39m+\u001b[39m\u001b[39m=\u001b[39m \u001b[39m1\u001b[39m\n",
      "\u001b[0;31mTerminator\u001b[0m: "
     ]
    },
    {
     "ename": "",
     "evalue": "",
     "output_type": "error",
     "traceback": [
      "\u001b[1;31mThe Kernel crashed while executing code in the the current cell or a previous cell. Please review the code in the cell(s) to identify a possible cause of the failure. Click <a href='https://aka.ms/vscodeJupyterKernelCrash'>here</a> for more info. View Jupyter <a href='command:jupyter.viewOutput'>log</a> for further details."
     ]
    }
   ],
   "source": [
    "\"\"\"\n",
    "a113_tower.py\n",
    "Modify this code in VS Code to alternate the colors of the floors every three floors\n",
    "\"\"\"\n",
    "\n",
    "import turtle as trtl\n",
    "\n",
    "painter = trtl.Turtle()\n",
    "painter.speed(0)\n",
    "painter.pensize(5)\n",
    "\n",
    "# starting location of the tower\n",
    "x = -150\n",
    "y = -150\n",
    "\n",
    "# height of tower and a counter for each floor\n",
    "num_floors = 63\n",
    "\n",
    "# iterate\n",
    "for floor in range(num_floors):\n",
    "    # set placement and color of turtle\n",
    "    painter.penup()\n",
    "    painter.goto(x, y)\n",
    "    rem1 = floor % 6\n",
    "    if rem1 == 0:\n",
    "        painter.color(\"blue\")\n",
    "    elif rem1 == 2:\n",
    "        painter.color(\"purple\")\n",
    "    elif rem1 == 4:\n",
    "        painter.color(\"grey\")\n",
    "    y = y + 5  # location of next floor\n",
    "    # draw the floor\n",
    "    painter.pendown()\n",
    "    painter.forward(50)\n",
    "\n",
    "    rem2 = floor % 21\n",
    "    if rem2 == 20:\n",
    "        painter.penup()\n",
    "        painter.goto((x + 150), (-150))\n",
    "        y = -150\n",
    "        x = x + 150\n",
    "\n",
    "wn = trtl.Screen()\n",
    "wn.mainloop()"
   ]
  }
 ],
 "metadata": {
  "kernelspec": {
   "display_name": "Python 3.10.6 64-bit",
   "language": "python",
   "name": "python3"
  },
  "language_info": {
   "codemirror_mode": {
    "name": "ipython",
    "version": 3
   },
   "file_extension": ".py",
   "mimetype": "text/x-python",
   "name": "python",
   "nbconvert_exporter": "python",
   "pygments_lexer": "ipython3",
   "version": "3.10.6"
  },
  "orig_nbformat": 4,
  "vscode": {
   "interpreter": {
    "hash": "aee8b7b246df8f9039afb4144a1f6fd8d2ca17a180786b69acc140d282b71a49"
   }
  }
 },
 "nbformat": 4,
 "nbformat_minor": 2
}
